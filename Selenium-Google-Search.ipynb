{
 "cells": [
  {
   "cell_type": "code",
   "execution_count": 2,
   "id": "c95fd4c5-61a6-49df-9526-7d10fc1aed94",
   "metadata": {},
   "outputs": [],
   "source": [
    "from selenium import webdriver\n",
    "from selenium.webdriver.common.by import By\n",
    "from selenium.webdriver.common.keys import Keys\n",
    "from selenium.webdriver.chrome.service import Service\n",
    "import time\n",
    "\n",
    "# Specifying the path to the WebDrive\n",
    "driver_path = 'chromedriver.exe'\n",
    "service = Service(driver_path)"
   ]
  },
  {
   "cell_type": "code",
   "execution_count": 6,
   "id": "f9cb91cf-acd7-48b8-9fb7-fc617cd9fb09",
   "metadata": {},
   "outputs": [
    {
     "name": "stdout",
     "output_type": "stream",
     "text": [
      "Website opened successfully.\n",
      "Search query 'Gmail Login' submitted.\n",
      "Search successful. Found 10 results.\n",
      "Result 1: Email - Gmail - Google\n",
      "Result 2: Sign in to continue to Gmail\n",
      "Result 3: Sign in to Gmail - Computer\n",
      "Result 4: Google Accounts: Sign in\n",
      "Result 5: Gmail: Private and secure email at no cost\n",
      "Browser closed.\n"
     ]
    }
   ],
   "source": [
    "driver = webdriver.Chrome(service=service)\n",
    "try:\n",
    "    #1) Open the website\n",
    "    driver.get(\"https://www.google.com\")\n",
    "    print(\"Website opened successfully.\")\n",
    "    \n",
    "    #Locate the search bar and input a query\n",
    "    search_box = driver.find_element(By.NAME, \"q\")\n",
    "    search_query = \"Gmail Login\"\n",
    "    search_box.send_keys(search_query)\n",
    "    search_box.send_keys(Keys.RETURN)\n",
    "    print(f\"Search query '{search_query}' submitted.\")\n",
    "\n",
    "    #2) Wait for results to load\n",
    "    time.sleep(3)  # Adjust the sleep time based on your internet speed\n",
    "\n",
    "    #3) Validate search results\n",
    "    results = driver.find_elements(By.CSS_SELECTOR, \"h3\")\n",
    "    assert len(results) > 0, \"No search results found.\"\n",
    "    print(f\"Search successful. Found {len(results)} results.\")\n",
    "\n",
    "    #4) Print titles of the first few results\n",
    "    for i, result in enumerate(results[:5]):\n",
    "        print(f\"Result {i+1}: {result.text}\")\n",
    "\n",
    "except AssertionError as e:\n",
    "    print(f\"Test failed: {e}\")\n",
    "\n",
    "except Exception as e:\n",
    "    print(f\"An error occurred: {e}\")\n",
    "\n",
    "finally:\n",
    "    #Closing\n",
    "    driver.quit()\n",
    "    print(\"Browser closed.\")"
   ]
  },
  {
   "cell_type": "code",
   "execution_count": null,
   "id": "b7897b56-7e87-40eb-be5b-312cdedaa8da",
   "metadata": {},
   "outputs": [],
   "source": []
  }
 ],
 "metadata": {
  "kernelspec": {
   "display_name": "Python 3 (ipykernel)",
   "language": "python",
   "name": "python3"
  },
  "language_info": {
   "codemirror_mode": {
    "name": "ipython",
    "version": 3
   },
   "file_extension": ".py",
   "mimetype": "text/x-python",
   "name": "python",
   "nbconvert_exporter": "python",
   "pygments_lexer": "ipython3",
   "version": "3.11.7"
  }
 },
 "nbformat": 4,
 "nbformat_minor": 5
}
